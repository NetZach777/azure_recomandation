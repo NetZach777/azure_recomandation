{
 "cells": [
  {
   "cell_type": "code",
   "execution_count": null,
   "id": "0b76a49c-7890-40fe-b24d-42b1b0af6b8e",
   "metadata": {},
   "outputs": [],
   "source": [
    "import pandas as pd\n",
    "import pickle\n",
    "from flask import Flask, request, jsonify\n",
    "from surprise import SVD\n",
    "\n",
    "# Initialisation de l'application Flask\n",
    "app = Flask(__name__)\n",
    "\n",
    "# Charger le DataFrame df_merged depuis le fichier compressé\n",
    "df_merged = pd.read_pickle(\"df_merged_compressed.pkl\", compression=\"gzip\")\n",
    "\n",
    "# Préparation des données d'interaction\n",
    "interaction = df_merged[['user_id', 'article_id', 'session_id']].groupby(by=['user_id', 'article_id'], as_index=False).agg('count')\n",
    "interaction.rename(columns={'session_id': 'rating'}, inplace=True)\n",
    "interaction['rating'] = (interaction['rating'] - interaction['rating'].min()) / (interaction['rating'].max() - interaction['rating'].min())\n",
    "\n",
    "# Charger le modèle SVD sauvegardé\n",
    "with open('best_svd_model.pkl', 'rb') as file:\n",
    "    loaded_model = pickle.load(file)\n",
    "\n",
    "# Fonction de recommandation\n",
    "def get_recommendations(user_id, model, interaction_df, n=5):\n",
    "    articles = set(interaction_df['article_id'].unique())\n",
    "    predictions = [model.predict(user_id, article).est for article in articles]\n",
    "    top_articles = sorted(zip(articles, predictions), key=lambda x: x[1], reverse=True)[:n]\n",
    "    return [article for article, _ in top_articles]\n",
    "\n",
    "# Route pour obtenir des recommandations\n",
    "@app.route('/recommend', methods=['GET'])\n",
    "def recommend():\n",
    "    user_id = request.args.get('user_id', default=1, type=int)\n",
    "    n = request.args.get('n', default=5, type=int)\n",
    "    recommended_articles = get_recommendations(user_id, loaded_model, interaction, n)\n",
    "    return jsonify({'user_id': user_id, 'recommendations': recommended_articles})\n",
    "\n",
    "if __name__ == \"__main__\":\n",
    "    app.run(debug=True)\n",
    "\n"
   ]
  },
  {
   "cell_type": "code",
   "execution_count": null,
   "id": "736a4f47",
   "metadata": {},
   "outputs": [],
   "source": []
  }
 ],
 "metadata": {
  "kernelspec": {
   "display_name": "Python 3 (ipykernel)",
   "language": "python",
   "name": "python3"
  },
  "language_info": {
   "codemirror_mode": {
    "name": "ipython",
    "version": 3
   },
   "file_extension": ".py",
   "mimetype": "text/x-python",
   "name": "python",
   "nbconvert_exporter": "python",
   "pygments_lexer": "ipython3",
   "version": "3.9.18"
  }
 },
 "nbformat": 4,
 "nbformat_minor": 5
}
